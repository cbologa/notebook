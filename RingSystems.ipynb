{
  "nbformat": 4,
  "nbformat_minor": 0,
  "metadata": {
    "colab": {
      "provenance": [],
      "authorship_tag": "ABX9TyNBVVDmA0Grp5mYZiDZoUZk",
      "include_colab_link": true
    },
    "kernelspec": {
      "name": "python3",
      "display_name": "Python 3"
    },
    "language_info": {
      "name": "python"
    }
  },
  "cells": [
    {
      "cell_type": "markdown",
      "metadata": {
        "id": "view-in-github",
        "colab_type": "text"
      },
      "source": [
        "<a href=\"https://colab.research.google.com/github/cbologa/notebook/blob/main/RingSystems.ipynb\" target=\"_parent\"><img src=\"https://colab.research.google.com/assets/colab-badge.svg\" alt=\"Open In Colab\"/></a>"
      ]
    },
    {
      "cell_type": "code",
      "source": [
        "#@title Input SMILES string, then hit `Runtime` -> `Run all`\n",
        "!pip install --upgrade --quiet rdkit\n",
        "from rdkit.Chem import *\n",
        "smiles = 'C[C@H]1CCC2([C@@H](C[C@H]([C@H](O2)C(C)C(=O)C3=CC=CN3)C)C)O[C@H]1CC4=NC5=C(O4)C=CC(=C5C(=O)O)NC' #@param {type:\"string\"}\n",
        "mol = MolFromSmiles(smiles)\n",
        "mol"
      ],
      "metadata": {
        "cellView": "form",
        "id": "QQCntxSnIhZx"
      },
      "execution_count": null,
      "outputs": []
    },
    {
      "cell_type": "markdown",
      "source": [],
      "metadata": {
        "id": "pwgxETcAjXST"
      }
    },
    {
      "cell_type": "code",
      "source": [
        "#@title Display ring systems\n",
        "#get atom sets from ring systems\n",
        "RemoveStereochemistry(mol)\n",
        "atom_rings = mol.GetRingInfo().AtomRings()\n",
        "ring_atoms_sets = []\n",
        "for ring in atom_rings:\n",
        "  ring_atoms = set(ring)\n",
        "  new_ring_atoms_sets = []\n",
        "  for ring_atoms_set in ring_atoms_sets:\n",
        "    atoms_in_common = len(ring_atoms.intersection(ring_atoms_set))\n",
        "    if atoms_in_common:\n",
        "      ring_atoms = ring_atoms.union(ring_atoms_set)\n",
        "    else:\n",
        "      new_ring_atoms_sets.append(ring_atoms_set)\n",
        "  new_ring_atoms_sets.append(ring_atoms)\n",
        "  ring_atoms_sets = new_ring_atoms_sets\n",
        "#get ring systems\n",
        "ring_systems_list = []\n",
        "for atoms_set in ring_atoms_sets:\n",
        "  bond_idx_list = []\n",
        "  for bond in mol.GetBonds():\n",
        "    if bond.GetBeginAtomIdx() in atoms_set and bond.GetEndAtomIdx() in atoms_set:\n",
        "      bond_idx_list.append(bond.GetIdx())\n",
        "  submol = rdmolops.PathToSubmol(mol, bond_idx_list)\n",
        "  ring_systems_list.append(submol)\n",
        "Draw.MolsToGridImage(ring_systems_list)"
      ],
      "metadata": {
        "cellView": "form",
        "id": "4BlsFZIRBXz9"
      },
      "execution_count": null,
      "outputs": []
    },
    {
      "cell_type": "code",
      "source": [
        "#@title Print ring systems SMILES\n",
        "[MolToSmiles(submol) for submol in ring_systems_list]"
      ],
      "metadata": {
        "cellView": "form",
        "id": "Uf5CLC-ciOUa"
      },
      "execution_count": null,
      "outputs": []
    }
  ]
}