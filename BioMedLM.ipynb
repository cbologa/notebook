{
  "nbformat": 4,
  "nbformat_minor": 0,
  "metadata": {
    "colab": {
      "provenance": [],
      "machine_shape": "hm",
      "authorship_tag": "ABX9TyNDOc3XSdM2B/s6GdDw2rJV",
      "include_colab_link": true
    },
    "kernelspec": {
      "name": "python3",
      "display_name": "Python 3"
    },
    "language_info": {
      "name": "python"
    },
    "accelerator": "GPU",
    "gpuClass": "premium"
  },
  "cells": [
    {
      "cell_type": "markdown",
      "metadata": {
        "id": "view-in-github",
        "colab_type": "text"
      },
      "source": [
        "<a href=\"https://colab.research.google.com/github/cbologa/notebook/blob/main/BioMedLM.ipynb\" target=\"_parent\"><img src=\"https://colab.research.google.com/assets/colab-badge.svg\" alt=\"Open In Colab\"/></a>"
      ]
    },
    {
      "cell_type": "markdown",
      "source": [
        "Install transformers module"
      ],
      "metadata": {
        "id": "KC2CQcFJHI08"
      }
    },
    {
      "cell_type": "code",
      "source": [
        "!pip install -q transformers"
      ],
      "metadata": {
        "id": "cQE7DxSLHAWs"
      },
      "execution_count": 1,
      "outputs": []
    },
    {
      "cell_type": "markdown",
      "source": [
        "Load required modules"
      ],
      "metadata": {
        "id": "cXiU0dHTE5t4"
      }
    },
    {
      "cell_type": "code",
      "source": [
        "import torch\n",
        "from transformers import GPT2LMHeadModel, GPT2Tokenizer"
      ],
      "metadata": {
        "id": "upgb93O9E_iJ"
      },
      "execution_count": 2,
      "outputs": []
    },
    {
      "cell_type": "markdown",
      "source": [
        "Initialize GPU"
      ],
      "metadata": {
        "id": "ZhtNplQhFK-1"
      }
    },
    {
      "cell_type": "code",
      "source": [
        "device = torch.device(\"cuda\")"
      ],
      "metadata": {
        "id": "gx6f4Gw3FLhA"
      },
      "execution_count": 3,
      "outputs": []
    },
    {
      "cell_type": "markdown",
      "source": [
        "Load tokenizer"
      ],
      "metadata": {
        "id": "CnIFpH6HFK9F"
      }
    },
    {
      "cell_type": "code",
      "source": [
        "tokenizer = GPT2Tokenizer.from_pretrained(\"stanford-crfm/BioMedLM\")"
      ],
      "metadata": {
        "id": "X0seCVNKFsJd"
      },
      "execution_count": 4,
      "outputs": []
    },
    {
      "cell_type": "markdown",
      "source": [
        "Load model"
      ],
      "metadata": {
        "id": "tL40uV-SF3V-"
      }
    },
    {
      "cell_type": "code",
      "source": [
        "model = GPT2LMHeadModel.from_pretrained(\"stanford-crfm/BioMedLM\").to(device)"
      ],
      "metadata": {
        "id": "ZN1a3-4HF8TS"
      },
      "execution_count": 5,
      "outputs": []
    },
    {
      "cell_type": "markdown",
      "source": [
        "Enter prompt"
      ],
      "metadata": {
        "id": "595rsYJZF3S6"
      }
    },
    {
      "cell_type": "code",
      "source": [
        "input_ids = tokenizer.encode(\n",
        "    \"Photosynthesis is\", return_tensors=\"pt\"\n",
        ").to(device)"
      ],
      "metadata": {
        "id": "CQNK-RaTGKHW"
      },
      "execution_count": 6,
      "outputs": []
    },
    {
      "cell_type": "markdown",
      "source": [
        "Generate output"
      ],
      "metadata": {
        "id": "_8FkUYpuGVcv"
      }
    },
    {
      "cell_type": "code",
      "source": [
        "sample_output = model.generate(input_ids, do_sample=True, max_length=200, top_k=50, pad_token_id=28895)"
      ],
      "metadata": {
        "id": "zS7eyTYXGaYk"
      },
      "execution_count": 11,
      "outputs": []
    },
    {
      "cell_type": "markdown",
      "source": [
        "Print output"
      ],
      "metadata": {
        "id": "acV5SwqFGgCn"
      }
    },
    {
      "cell_type": "code",
      "source": [
        "print(\"Output:\\n\" + 100 * \"-\")\n",
        "print(tokenizer.decode(sample_output[0], skip_special_tokens=True))"
      ],
      "metadata": {
        "id": "6oh0YaqZGjnx",
        "colab": {
          "base_uri": "https://localhost:8080/"
        },
        "outputId": "7dba37af-1381-4a09-a169-f0bd35101488"
      },
      "execution_count": 12,
      "outputs": [
        {
          "output_type": "stream",
          "name": "stdout",
          "text": [
            "Output:\n",
            "----------------------------------------------------------------------------------------------------\n",
            "Photosynthesis is a process that produces oxygen and energy necessary for metabolic processes. The rate of photosynthesis varies in response to different environmental conditions including exposure to light, temperature, and CO~2~, which are the most important climatic factors influencing *A*~max~[@b2]. However, the light environment is primarily determined by the atmospheric absorption of sunlight. Thus, the efficiency of light capture and utilization is a determining factor for photosynthesis[@b3]. Leaves have developed specific morphological and physiological strategies that enhance the capture, conversion, and utilization of light energy[@b1]. The leaf anatomy and physiology has been the subject of many studies[@b3][@b4][@b5][@b6]. *A*~max~ is highly correlated with the anatomical and physiological characteristics of leaves such as the leaf thickness, leaf mass per area (LMA), leaf dark-adapted quantum yield, and maximum photosynthetic capacity[@b4][@b6][@\n"
          ]
        }
      ]
    }
  ]
}